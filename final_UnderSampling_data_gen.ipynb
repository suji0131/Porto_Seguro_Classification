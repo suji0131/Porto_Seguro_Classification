{
 "cells": [
  {
   "cell_type": "code",
   "execution_count": 1,
   "metadata": {
    "collapsed": true
   },
   "outputs": [],
   "source": [
    "import re\n",
    "import pandas as pd\n",
    "import numpy as np\n",
    "import pickle\n",
    "\n",
    "from sklearn.model_selection import train_test_split"
   ]
  },
  {
   "cell_type": "code",
   "execution_count": 2,
   "metadata": {
    "collapsed": true
   },
   "outputs": [],
   "source": [
    "df = pd.read_csv('train.csv')"
   ]
  },
  {
   "cell_type": "code",
   "execution_count": 3,
   "metadata": {
    "collapsed": true
   },
   "outputs": [],
   "source": [
    "#dropping columns that are dominated by the null values\n",
    "df.drop(['ps_reg_03','ps_car_03_cat', 'ps_car_05_cat'],axis=1, inplace = True)"
   ]
  },
  {
   "cell_type": "code",
   "execution_count": 4,
   "metadata": {},
   "outputs": [
    {
     "name": "stdout",
     "output_type": "stream",
     "text": [
      "Number of float columns:  9\n"
     ]
    }
   ],
   "source": [
    "#float cols used later, kept here so operation won't change the dtype of cols\n",
    "#update this if any float cols are deleted\n",
    "int_cols = df.select_dtypes(include=['int64']).columns\n",
    "float_cols = df.select_dtypes(include=['float64']).columns\n",
    "float_cols = float_cols.tolist()\n",
    "\n",
    "print('Number of float columns: ', len(float_cols))"
   ]
  },
  {
   "cell_type": "code",
   "execution_count": 5,
   "metadata": {},
   "outputs": [
    {
     "name": "stdout",
     "output_type": "stream",
     "text": [
      "Number of rows with atleast one null value:  53352\n"
     ]
    }
   ],
   "source": [
    "#storing rows with null values in sep. dataframe for later use\n",
    "df_any_null = df[(df == -1).any(axis = 1)]\n",
    "print('Number of rows with atleast one null value: ', len(df_any_null))\n",
    "\n",
    "#df with no null values.\n",
    "df = df[~(df == -1).any(axis = 1)]"
   ]
  },
  {
   "cell_type": "code",
   "execution_count": 6,
   "metadata": {
    "collapsed": true
   },
   "outputs": [],
   "source": [
    "#dropping binary columns that are dominated by a single level\n",
    "df.drop(['ps_ind_10_bin', 'ps_ind_11_bin', 'ps_ind_12_bin','ps_ind_13_bin'],axis=1, inplace = True)"
   ]
  },
  {
   "cell_type": "code",
   "execution_count": 7,
   "metadata": {
    "collapsed": true
   },
   "outputs": [],
   "source": [
    "#dropping categorical columns that are dominated by a single level\n",
    "df.drop(['ps_car_10_cat', 'ps_car_11_cat'],axis=1, inplace = True)"
   ]
  },
  {
   "cell_type": "code",
   "execution_count": 8,
   "metadata": {
    "collapsed": true
   },
   "outputs": [],
   "source": [
    "#dropping ordinal columns that are dominated by a single level\n",
    "df.drop(['ps_ind_14'],axis=1, inplace = True)"
   ]
  },
  {
   "cell_type": "code",
   "execution_count": 9,
   "metadata": {},
   "outputs": [
    {
     "name": "stdout",
     "output_type": "stream",
     "text": [
      "15\n"
     ]
    }
   ],
   "source": [
    "#final cat, bin and ord column names\n",
    "cat_col_names = [col for col in df.columns if '_cat' in col]\n",
    "bin_col_names = [col for col in df.columns if '_bin' in col]\n",
    "\n",
    "ord_col_names = []\n",
    "for col in df.columns:\n",
    "    if ('_cat' in col) or ('_bin' in col) or (col in ['id', 'target']) or (col in float_cols):\n",
    "        a = 1\n",
    "    else:\n",
    "        ord_col_names.append(col)\n",
    "        \n",
    "print(len(ord_col_names))"
   ]
  },
  {
   "cell_type": "code",
   "execution_count": 10,
   "metadata": {
    "collapsed": true
   },
   "outputs": [],
   "source": [
    "#creating dummy variables for categorical variables \n",
    "b = []\n",
    "for col in cat_col_names:\n",
    "    if len(df[col].unique()) > 2:\n",
    "        b.append(col)\n",
    "#dummies, automatically drops parent column        \n",
    "df = pd.get_dummies(df,columns=b,prefix=b)\n",
    "\n",
    "del(b)"
   ]
  },
  {
   "cell_type": "markdown",
   "metadata": {},
   "source": [
    "###### Treating the ordinal columns as cont columns"
   ]
  },
  {
   "cell_type": "code",
   "execution_count": 12,
   "metadata": {},
   "outputs": [],
   "source": [
    "#normalizing the float columns\n",
    "#dict to save the min, mean and max of a float column. to be used on test file\n",
    "cont_cols_summ = {}\n",
    "for col in float_cols+ord_col_names:\n",
    "    t_d = {}\n",
    "    t_d['mean'] = df[col].mean()\n",
    "    t_d['max'] = df[col].max()\n",
    "    t_d['min'] = df[col].min()\n",
    "    range_ = t_d['max'] - t_d['min']\n",
    "    df[col] = (df[col] - t_d['mean'])/range_\n",
    "    cont_cols_summ[col] = t_d"
   ]
  },
  {
   "cell_type": "markdown",
   "metadata": {},
   "source": [
    "#### Reorder the columns"
   ]
  },
  {
   "cell_type": "code",
   "execution_count": 32,
   "metadata": {
    "collapsed": true
   },
   "outputs": [],
   "source": [
    "#ordering/sorting the columns accordingly\n",
    "final_cols = df.drop(['id', 'target'], axis = 1).columns.tolist()"
   ]
  },
  {
   "cell_type": "code",
   "execution_count": 33,
   "metadata": {
    "collapsed": true
   },
   "outputs": [],
   "source": [
    "#this function sorts properly str 10 will come after str 9\n",
    "def natural_sort(l): \n",
    "    convert = lambda text: int(text) if text.isdigit() else text.lower() \n",
    "    alphanum_key = lambda key: [ convert(c) for c in re.split('([0-9]+)', key) ] \n",
    "    return sorted(l, key = alphanum_key)\n",
    "\n",
    "final_cols = natural_sort(final_cols)"
   ]
  },
  {
   "cell_type": "code",
   "execution_count": 29,
   "metadata": {
    "collapsed": true
   },
   "outputs": [],
   "source": [
    "df = df[['id', 'target']+final_cols]"
   ]
  },
  {
   "cell_type": "code",
   "execution_count": 36,
   "metadata": {},
   "outputs": [
    {
     "name": "stdout",
     "output_type": "stream",
     "text": [
      "id\n"
     ]
    }
   ],
   "source": [
    "# checking to see if column values are in range -1 to +1\n",
    "for col in df.columns:\n",
    "    if df[col].max() > 1 or df[col].min() < -1:\n",
    "        print(col)"
   ]
  },
  {
   "cell_type": "markdown",
   "metadata": {},
   "source": [
    "#### UnderSampling"
   ]
  },
  {
   "cell_type": "code",
   "execution_count": 41,
   "metadata": {
    "collapsed": true
   },
   "outputs": [],
   "source": [
    "#splitting data into training and test sets\n",
    "#shuffle for train_test_split by default is true\n",
    "training_features, x_test, training_target, y_test = train_test_split(df.drop(['id','target'], axis=1).as_matrix(),\n",
    "                                               df['target'].as_matrix(),\n",
    "                                               test_size = .2,\n",
    "                                               random_state=12)"
   ]
  },
  {
   "cell_type": "code",
   "execution_count": 42,
   "metadata": {
    "collapsed": true
   },
   "outputs": [],
   "source": [
    "#splitting train data to train and validation sets\n",
    "#shuffle for train_test_split by default is true\n",
    "x_train, x_val, y_train, y_val = train_test_split(training_features, training_target,\n",
    "                                                  test_size = .1,\n",
    "                                                  random_state=12)"
   ]
  },
  {
   "cell_type": "code",
   "execution_count": 44,
   "metadata": {},
   "outputs": [
    {
     "name": "stdout",
     "output_type": "stream",
     "text": [
      "(390139, 97) (43349, 97) (108372, 97)\n"
     ]
    }
   ],
   "source": [
    "print(np.shape(x_train),np.shape(x_val),np.shape(x_test))"
   ]
  },
  {
   "cell_type": "code",
   "execution_count": 45,
   "metadata": {},
   "outputs": [
    {
     "name": "stdout",
     "output_type": "stream",
     "text": [
      "Counter({0: 376305, 1: 13834}) Counter({0: 41794, 1: 1555}) Counter({0: 104611, 1: 3761})\n"
     ]
    }
   ],
   "source": [
    "from collections import Counter\n",
    "print(Counter(y_train),Counter(y_val),Counter(y_test))"
   ]
  },
  {
   "cell_type": "code",
   "execution_count": null,
   "metadata": {
    "collapsed": true
   },
   "outputs": [],
   "source": [
    "with open('us_data.pickle', mode = 'wb') as f:\n",
    "    pickle.dump([(x_train,y_train),(x_val,y_val),(x_test,y_test), final_cols, cont_cols_summ], f)"
   ]
  },
  {
   "cell_type": "code",
   "execution_count": null,
   "metadata": {
    "collapsed": true
   },
   "outputs": [],
   "source": []
  }
 ],
 "metadata": {
  "anaconda-cloud": {},
  "kernelspec": {
   "display_name": "Python [Root]",
   "language": "python",
   "name": "Python [Root]"
  },
  "language_info": {
   "codemirror_mode": {
    "name": "ipython",
    "version": 3
   },
   "file_extension": ".py",
   "mimetype": "text/x-python",
   "name": "python",
   "nbconvert_exporter": "python",
   "pygments_lexer": "ipython3",
   "version": "3.5.2"
  }
 },
 "nbformat": 4,
 "nbformat_minor": 1
}
